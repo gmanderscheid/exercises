{
 "cells": [
  {
   "cell_type": "code",
   "execution_count": 6,
   "metadata": {},
   "outputs": [],
   "source": [
    "import pandas as pd\n",
    "import os "
   ]
  },
  {
   "cell_type": "code",
   "execution_count": 7,
   "metadata": {},
   "outputs": [],
   "source": [
    "df = pd.read_csv(os.listdir()[2])"
   ]
  },
  {
   "cell_type": "code",
   "execution_count": 8,
   "metadata": {},
   "outputs": [
    {
     "data": {
      "text/plain": [
       "Index(['ID', 'Heure de début', 'Heure de fin',\n",
       "       'Année de création de votre startup', 'La ville de votre siège social ',\n",
       "       'La région de votre siège social ',\n",
       "       'Nombre de personnes dans l'équipe fondatrice ',\n",
       "       'Nombre d'hommes dans l'équipe fondatrice',\n",
       "       'Nombre de femmes dans l'équipe fondatrice',\n",
       "       'Nombre de personnes avec un profil médical dans l'équipe fondatrice',\n",
       "       'Quel est votre secteur d'activité ? ',\n",
       "       'Sur quel segment de la Femtech travaillez-vous ? ',\n",
       "       'Quels types de produits/services développez-vous ? ',\n",
       "       'A quel stade de développement êtes-vous ? ',\n",
       "       'Développez-vous des produits et services liés au sport / à l'activité physique et sportive ?',\n",
       "       'Si oui, pouvez-vous le(s) présenter ? ',\n",
       "       'Est-ce que votre offre de service a vocation à être remboursée (pour tout ou partie) par un assureur de santé ou par la sécurité sociale ? ',\n",
       "       'Quels sont les freins rencontrés ? ',\n",
       "       'Avec quels acteurs collaborez-vous pour le développement de votre produit/service ? ',\n",
       "       'Pouvez-vous nommer ces acteurs ? ',\n",
       "       'Pouvez-vous nous expliquer le travail qui a été fait avec ces acteurs ?',\n",
       "       'Quel est votre business model ? ', 'Avez-vous déjà des clients ? ',\n",
       "       'Le/Lesquels ? ', 'Avez-vous déjà des utilisatrices ?',\n",
       "       'Combien d'utilisatrices avez-vous ?',\n",
       "       'Générez-vous du chiffre d'affaires (CA) ?',\n",
       "       'Quels marchés souhaitez-vous adresser (par région) ? ',\n",
       "       'Quel était votre CA en 2023 ? ',\n",
       "       'Quel était le pourcentage de croissance de votre CA par rapport à 2022 ? ',\n",
       "       'Quels marchés adressez-vous (par région) ? ',\n",
       "       'Quels marchés adressez-vous (par pays) ?',\n",
       "       'Comment vous financez-vous ? ',\n",
       "       'Auprès de quels acteurs avez-vous levé ces fonds ? '],\n",
       "      dtype='object')"
      ]
     },
     "execution_count": 8,
     "metadata": {},
     "output_type": "execute_result"
    }
   ],
   "source": [
    "df.columns"
   ]
  },
  {
   "cell_type": "code",
   "execution_count": 9,
   "metadata": {},
   "outputs": [],
   "source": [
    "column = 'Quels marchés souhaitez-vous adresser (par région) ? '"
   ]
  },
  {
   "cell_type": "code",
   "execution_count": 10,
   "metadata": {},
   "outputs": [],
   "source": [
    "series = df[df[column].isna() != True][column].apply(lambda x: x.split(';'))\n",
    "all_regions = {}\n",
    "\n",
    "for i in series:\n",
    "    for j in i :   \n",
    "        try :\n",
    "            if j not in all_regions:\n",
    "                all_regions[j] = 0\n",
    "            else : \n",
    "                all_regions[j] += 1\n",
    "        except: \n",
    "            print(i)"
   ]
  },
  {
   "cell_type": "code",
   "execution_count": 11,
   "metadata": {},
   "outputs": [
    {
     "data": {
      "text/plain": [
       "5               [Europe, Afrique, Amérique du Nord  , ]\n",
       "8                                            [Europe, ]\n",
       "19                                           [Europe, ]\n",
       "20                                           [Europe, ]\n",
       "25                                           [Europe, ]\n",
       "26                       [Amérique du Nord  , Europe, ]\n",
       "29                                           [Europe, ]\n",
       "30                                           [Europe, ]\n",
       "31    [Europe, Amérique du Nord  , MENA (Moyen-Orien...\n",
       "33                                           [Europe, ]\n",
       "38    [Amérique du Nord  , Australie & Océanie, Euro...\n",
       "40                       [Europe, Amérique du Nord  , ]\n",
       "43    [MENA (Moyen-Orient et Afrique du Nord), Europ...\n",
       "44                       [Amérique du Nord  , Europe, ]\n",
       "56    [Amérique du Nord  , Asie, Australie & Océanie...\n",
       "63    [Amérique du Nord  , Europe, LATAM (pays d’Amé...\n",
       "68                       [Europe, Amérique du Nord  , ]\n",
       "Name: Quels marchés souhaitez-vous adresser (par région) ? , dtype: object"
      ]
     },
     "execution_count": 11,
     "metadata": {},
     "output_type": "execute_result"
    }
   ],
   "source": [
    "series"
   ]
  },
  {
   "cell_type": "code",
   "execution_count": 12,
   "metadata": {},
   "outputs": [
    {
     "data": {
      "text/plain": [
       "{'Europe': 16,\n",
       " 'Afrique': 3,\n",
       " 'Amérique du Nord  ': 9,\n",
       " '': 16,\n",
       " 'MENA (Moyen-Orient et Afrique du Nord)': 3,\n",
       " 'Australie & Océanie': 3,\n",
       " 'LATAM (pays d’Amérique Latine)': 1,\n",
       " 'Asie': 1}"
      ]
     },
     "execution_count": 12,
     "metadata": {},
     "output_type": "execute_result"
    }
   ],
   "source": [
    "all_regions"
   ]
  },
  {
   "cell_type": "code",
   "execution_count": 51,
   "metadata": {},
   "outputs": [],
   "source": [
    "df['Europe'] = [0 for i in range(df.shape[0])]\n",
    "df['Afrique'] = [0 for i in range(df.shape[0])]\n",
    "df['Amérique du Nord  '] = [0 for i in range(df.shape[0])]\n",
    "df['MENA (Moyen-Orient et Afrique du Nord)'] = [0 for i in range(df.shape[0])]\n",
    "df['Australie & Océanie'] =  [0 for i in range(df.shape[0])]\n",
    "df['LATAM (pays d’Amérique Latine)'] = [0 for i in range(df.shape[0])]\n",
    "df['Asie'] = [0 for i in range(df.shape[0])]"
   ]
  },
  {
   "cell_type": "code",
   "execution_count": 52,
   "metadata": {},
   "outputs": [],
   "source": [
    "df['split'] = series"
   ]
  },
  {
   "cell_type": "code",
   "execution_count": 53,
   "metadata": {},
   "outputs": [],
   "source": [
    "def get_count(x, y, country):\n",
    "    try :\n",
    "        if country in x: \n",
    "            return y+1\n",
    "    except :\n",
    "        pass"
   ]
  },
  {
   "cell_type": "code",
   "execution_count": 55,
   "metadata": {},
   "outputs": [],
   "source": [
    "country = 'Europe'\n",
    "df[country] = df[['split', country]].apply(lambda x: get_count(x['split'], x[country], country), axis=1)"
   ]
  },
  {
   "cell_type": "code",
   "execution_count": 56,
   "metadata": {},
   "outputs": [
    {
     "name": "stdout",
     "output_type": "stream",
     "text": [
      "17.0\n",
      "(17,)\n"
     ]
    }
   ],
   "source": [
    "print(df[country].sum())\n",
    "# combien de start ups en europe sur toute celles qui se prononcent ? \n",
    "# celles qui se prononcent : \n",
    "print(series.shape)\n",
    "# donc toutes "
   ]
  },
  {
   "cell_type": "code",
   "execution_count": 57,
   "metadata": {},
   "outputs": [
    {
     "data": {
      "text/plain": [
       "5               [Europe, Afrique, Amérique du Nord  , ]\n",
       "8                                            [Europe, ]\n",
       "19                                           [Europe, ]\n",
       "20                                           [Europe, ]\n",
       "25                                           [Europe, ]\n",
       "26                       [Amérique du Nord  , Europe, ]\n",
       "29                                           [Europe, ]\n",
       "30                                           [Europe, ]\n",
       "31    [Europe, Amérique du Nord  , MENA (Moyen-Orien...\n",
       "33                                           [Europe, ]\n",
       "38    [Amérique du Nord  , Australie & Océanie, Euro...\n",
       "40                       [Europe, Amérique du Nord  , ]\n",
       "43    [MENA (Moyen-Orient et Afrique du Nord), Europ...\n",
       "44                       [Amérique du Nord  , Europe, ]\n",
       "56    [Amérique du Nord  , Asie, Australie & Océanie...\n",
       "63    [Amérique du Nord  , Europe, LATAM (pays d’Amé...\n",
       "68                       [Europe, Amérique du Nord  , ]\n",
       "Name: Quels marchés souhaitez-vous adresser (par région) ? , dtype: object"
      ]
     },
     "execution_count": 57,
     "metadata": {},
     "output_type": "execute_result"
    }
   ],
   "source": [
    "series"
   ]
  },
  {
   "cell_type": "code",
   "execution_count": 58,
   "metadata": {},
   "outputs": [],
   "source": [
    "country = 'Amérique du Nord  '\n",
    "df[country] = df[['split', country]].apply(lambda x: get_count(x['split'], x[country], country), axis=1)"
   ]
  },
  {
   "cell_type": "code",
   "execution_count": 62,
   "metadata": {},
   "outputs": [
    {
     "name": "stdout",
     "output_type": "stream",
     "text": [
      "10.0\n",
      "(17,)\n"
     ]
    },
    {
     "data": {
      "text/plain": [
       "58.82352941176471"
      ]
     },
     "execution_count": 62,
     "metadata": {},
     "output_type": "execute_result"
    }
   ],
   "source": [
    "print(df[country].sum())\n",
    "# combien de start ups en europe sur toute celles qui se prononcent ? \n",
    "# celles qui se prononcent : \n",
    "print(series.shape)\n",
    "# donc 10 sur 17, soit (10/17) * 100 = 58%"
   ]
  },
  {
   "cell_type": "code",
   "execution_count": null,
   "metadata": {},
   "outputs": [],
   "source": []
  }
 ],
 "metadata": {
  "kernelspec": {
   "display_name": ".venv",
   "language": "python",
   "name": "python3"
  },
  "language_info": {
   "codemirror_mode": {
    "name": "ipython",
    "version": 3
   },
   "file_extension": ".py",
   "mimetype": "text/x-python",
   "name": "python",
   "nbconvert_exporter": "python",
   "pygments_lexer": "ipython3",
   "version": "3.10.12"
  }
 },
 "nbformat": 4,
 "nbformat_minor": 2
}
