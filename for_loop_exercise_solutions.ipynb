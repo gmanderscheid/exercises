{
 "cells": [
  {
   "cell_type": "markdown",
   "metadata": {},
   "source": [
    "## For loop recap\n",
    "-----"
   ]
  },
  {
   "cell_type": "code",
   "execution_count": 3,
   "metadata": {},
   "outputs": [
    {
     "name": "stdout",
     "output_type": "stream",
     "text": [
      "2\n",
      "3\n",
      "4\n",
      "5\n",
      "1\n",
      "3\n",
      "5\n",
      "7\n",
      "9\n",
      "11\n",
      "13\n",
      "15\n"
     ]
    }
   ],
   "source": [
    "# Write a loop that prints numbers from 2 to 5\n",
    "START = 2 \n",
    "END = 5\n",
    "for i in range(START, END+1):\n",
    "    print(i)\n",
    "\n",
    "# Write a loop that prints all odd numbers from 1 to 15 \n",
    "# tip : use the rest division %. Ex : 4 % 2 == 0 ; 5 % 2 == 1 ; 6 % 2 == 0 \n",
    "START = 1\n",
    "END = 15\n",
    "for i in range(START, END+1):\n",
    "    if i % 2 != 0:\n",
    "        print(i)\n",
    "\n",
    "# Create a list that stores all odd numbers from 1 to 50 but also the string 'Clemence' at the beginning of the list\n",
    "my_list = []\n",
    "START = 1\n",
    "END = 50\n",
    "for i in range(START, END+1):\n",
    "    if i == 1: \n",
    "        my_list.append('Clemence')\n",
    "    elif i % 2 != 0:\n",
    "        my_list.append(i)\n",
    "\n",
    "# Create a list that stores all numbers that contain the number 1 in it, from 1 to 101 \n",
    "# tip : you might want to convert your numbers into strings\n",
    "my_list = []\n",
    "START = 1\n",
    "END = 101\n",
    "for i in range(START, END+1):\n",
    "    if '1' in str(i):\n",
    "        my_list.append(i)\n",
    "\n",
    "# list comprehension basic example : \n",
    "a_list = [i for i in range(10)]\n",
    "\n",
    "# list comprehension with condition example :\n",
    "a_list = [i for i in range(101) if '1' in str(i)]\n",
    "\n",
    "# Create a list that stores all odd numbers from 1 to 50 with a list comprehension \n",
    "my_list = [i for i in range(1, 51) if i % 2 != 0 ]"
   ]
  },
  {
   "cell_type": "markdown",
   "metadata": {},
   "source": [
    "## Bonus : Use for loops in functions\n",
    "----"
   ]
  },
  {
   "cell_type": "code",
   "execution_count": 20,
   "metadata": {},
   "outputs": [
    {
     "name": "stdout",
     "output_type": "stream",
     "text": [
      "[1, 3, 5, 7, 9, 11, 13, 15]\n",
      "[1, 10, 11, 12, 13, 14, 15]\n",
      "['Clemence', 10, 11, 12, 13, 14, 15, 16, 17, 18, 19, 21, 31, 41, 51, 61, 71, 81, 91, 100, 101]\n",
      "[1, 10, 11, 12, 13, 14, 15, 16, 17, 18, 19, 21, 31, 41, 51, 61, 71, 81, 91, 100, 101]\n"
     ]
    }
   ],
   "source": [
    "# Create a function that returns a list that stores all odd numbers from x to y \n",
    "def my_function(x, y):\n",
    "    return [i for i in range(x, y+1) if i % 2 != 0 ]\n",
    "\n",
    "print(my_function(1, 15))\n",
    "\n",
    "# Create a function that returns a list that stores all numbers that contain the number 1 in it, from x to y \n",
    "def my_function(x, y):\n",
    "    return [i for i in range(x, y+1) if '1' in str(i)]\n",
    "\n",
    "print(my_function(1, 15))\n",
    "\n",
    "# Create a function that returns a list that stores all numbers that contain the number 1 in it, from x to y and 'Clemence' at the beginning\n",
    "# Bonus bis : add a paramater to activate or deactivate Clemence in the function\n",
    "def my_function(x, y, clemence=True):\n",
    "    my_list = []\n",
    "    for i in range(x, y+1):\n",
    "        if i == 1 and clemence: \n",
    "            my_list.append('Clemence')\n",
    "        elif '1' in str(i):\n",
    "            my_list.append(i)\n",
    "    return my_list\n",
    "\n",
    "print(my_function(1, 101))\n",
    "print(my_function(1, 101, False))\n"
   ]
  },
  {
   "cell_type": "markdown",
   "metadata": {},
   "source": [
    "## Useful function (split)\n",
    "----"
   ]
  },
  {
   "cell_type": "code",
   "execution_count": 14,
   "metadata": {},
   "outputs": [
    {
     "name": "stdout",
     "output_type": "stream",
     "text": [
      "['this', 'is', 'a', 'string']\n",
      "4\n",
      "['thi', ' i', ' a ', 'tring']\n",
      "4\n"
     ]
    }
   ],
   "source": [
    "# how to use split :\n",
    "my_string = 'this is a string'\n",
    "splited_string = my_string.split()\n",
    "print(splited_string)\n",
    "print(len(splited_string))\n",
    "\n",
    "splited_string = my_string.split(sep='s')\n",
    "print(splited_string)\n",
    "print(len(splited_string))"
   ]
  },
  {
   "cell_type": "markdown",
   "metadata": {},
   "source": [
    "## Useful methods : try except\n",
    "----"
   ]
  },
  {
   "cell_type": "code",
   "execution_count": 24,
   "metadata": {},
   "outputs": [
    {
     "name": "stdout",
     "output_type": "stream",
     "text": [
      "cle\n"
     ]
    },
    {
     "ename": "AttributeError",
     "evalue": "'int' object has no attribute 'lower'",
     "output_type": "error",
     "traceback": [
      "\u001b[0;31m---------------------------------------------------------------------------\u001b[0m",
      "\u001b[0;31mAttributeError\u001b[0m                            Traceback (most recent call last)",
      "Cell \u001b[0;32mIn[24], line 4\u001b[0m\n\u001b[1;32m      1\u001b[0m \u001b[38;5;66;03m# When you want to ignore elements that throw errors in a loop, use try except \u001b[39;00m\n\u001b[1;32m      3\u001b[0m \u001b[38;5;28;01mfor\u001b[39;00m i \u001b[38;5;129;01min\u001b[39;00m [\u001b[38;5;124m'\u001b[39m\u001b[38;5;124mCLE\u001b[39m\u001b[38;5;124m'\u001b[39m, \u001b[38;5;241m3\u001b[39m, \u001b[38;5;124m'\u001b[39m\u001b[38;5;124mMENCE\u001b[39m\u001b[38;5;124m'\u001b[39m]:\n\u001b[0;32m----> 4\u001b[0m     \u001b[38;5;28mprint\u001b[39m(\u001b[43mi\u001b[49m\u001b[38;5;241;43m.\u001b[39;49m\u001b[43mlower\u001b[49m())\n",
      "\u001b[0;31mAttributeError\u001b[0m: 'int' object has no attribute 'lower'"
     ]
    }
   ],
   "source": [
    "# When you want to ignore elements that throw errors in a loop, use try except \n",
    "\n",
    "for i in ['CLE', 3, 'MENCE']:\n",
    "    print(i.lower())"
   ]
  },
  {
   "cell_type": "code",
   "execution_count": 25,
   "metadata": {},
   "outputs": [
    {
     "name": "stdout",
     "output_type": "stream",
     "text": [
      "cle\n",
      "mence\n"
     ]
    }
   ],
   "source": [
    "for i in ['Cle', 3, 'mence']:\n",
    "    try:\n",
    "        print(i.lower())\n",
    "    except:\n",
    "        pass "
   ]
  },
  {
   "cell_type": "markdown",
   "metadata": {},
   "source": [
    "## Run through dataframe to find words (for loop)\n",
    "----"
   ]
  },
  {
   "cell_type": "code",
   "execution_count": 6,
   "metadata": {},
   "outputs": [],
   "source": [
    "# import dataframe\n",
    "# isolate text col for answer in a variable named answer\n",
    "\n",
    "import pandas as pd \n",
    "\n",
    "df = pd.read_csv('medquad.csv')\n",
    "answer = df['answer'] # v1 \n",
    "answer = df.loc[:,'answer'] # v2\n",
    "answer = df.iloc[:, 1] # v3"
   ]
  },
  {
   "cell_type": "code",
   "execution_count": 8,
   "metadata": {},
   "outputs": [],
   "source": [
    "# find the number of times a particular word appears in text\n",
    "# tip : you might want to use the split function as well as a try except\n",
    "\n",
    "to_find = 'a'\n",
    "counter = 0\n",
    "for document in answer :\n",
    "    try :\n",
    "        for word in document.split():\n",
    "            if word == to_find:\n",
    "                counter += 1\n",
    "    except :\n",
    "        pass"
   ]
  },
  {
   "cell_type": "code",
   "execution_count": 10,
   "metadata": {},
   "outputs": [
    {
     "data": {
      "text/plain": [
       "69003"
      ]
     },
     "execution_count": 10,
     "metadata": {},
     "output_type": "execute_result"
    }
   ],
   "source": [
    "counter"
   ]
  },
  {
   "cell_type": "code",
   "execution_count": null,
   "metadata": {},
   "outputs": [],
   "source": []
  }
 ],
 "metadata": {
  "kernelspec": {
   "display_name": ".venv",
   "language": "python",
   "name": "python3"
  },
  "language_info": {
   "codemirror_mode": {
    "name": "ipython",
    "version": 3
   },
   "file_extension": ".py",
   "mimetype": "text/x-python",
   "name": "python",
   "nbconvert_exporter": "python",
   "pygments_lexer": "ipython3",
   "version": "3.10.12"
  }
 },
 "nbformat": 4,
 "nbformat_minor": 2
}
